{
 "cells": [
  {
   "cell_type": "markdown",
   "metadata": {
    "application/vnd.databricks.v1+cell": {
     "cellMetadata": {},
     "inputWidgets": {},
     "nuid": "36ed92a8-e08f-463e-bc4f-b9d03ced0287",
     "showTitle": false,
     "title": ""
    }
   },
   "source": [
    "# XGBoost Classifier training\n",
    "- This is an auto-generated notebook.\n",
    "- To reproduce these results, attach this notebook to a cluster with runtime version **12.2.x-cpu-ml-scala2.12**, and rerun it.\n",
    "- Compare trials in the [MLflow experiment](#mlflow/experiments/2207456861247495).\n",
    "- Clone this notebook into your project folder by selecting **File > Clone** in the notebook toolbar."
   ]
  },
  {
   "cell_type": "code",
   "execution_count": 0,
   "metadata": {
    "application/vnd.databricks.v1+cell": {
     "cellMetadata": {
      "byteLimit": 2048000,
      "rowLimit": 10000
     },
     "inputWidgets": {},
     "nuid": "3d97ec88-91b3-40c7-94fc-a3a94730d706",
     "showTitle": false,
     "title": ""
    },
    "execution": {
     "iopub.execute_input": "2023-04-14T04:02:37.054078Z",
     "iopub.status.busy": "2023-04-14T04:02:37.053472Z",
     "iopub.status.idle": "2023-04-14T04:02:37.062366Z",
     "shell.execute_reply": "2023-04-14T04:02:37.061219Z"
    }
   },
   "outputs": [],
   "source": [
    "import mlflow\n",
    "import databricks.automl_runtime\n",
    "\n",
    "target_col = \"churn\""
   ]
  },
  {
   "cell_type": "markdown",
   "metadata": {
    "application/vnd.databricks.v1+cell": {
     "cellMetadata": {},
     "inputWidgets": {},
     "nuid": "fde1d560-4dff-4507-9c86-b253a73b2a86",
     "showTitle": false,
     "title": ""
    }
   },
   "source": [
    "## Load Data"
   ]
  },
  {
   "cell_type": "code",
   "execution_count": 0,
   "metadata": {
    "application/vnd.databricks.v1+cell": {
     "cellMetadata": {
      "byteLimit": 2048000,
      "rowLimit": 10000
     },
     "inputWidgets": {},
     "nuid": "c3d2c8c9-b27d-4ef1-8641-374270b93149",
     "showTitle": false,
     "title": ""
    },
    "execution": {
     "iopub.execute_input": "2023-04-14T04:02:37.067482Z",
     "iopub.status.busy": "2023-04-14T04:02:37.067167Z",
     "iopub.status.idle": "2023-04-14T04:02:38.205602Z",
     "shell.execute_reply": "2023-04-14T04:02:38.204593Z"
    }
   },
   "outputs": [],
   "source": [
    "import mlflow\n",
    "import os\n",
    "import uuid\n",
    "import shutil\n",
    "import pandas as pd\n",
    "\n",
    "# Create temp directory to download input data from MLflow\n",
    "input_temp_dir = os.path.join(os.environ[\"SPARK_LOCAL_DIRS\"], \"tmp\", str(uuid.uuid4())[:8])\n",
    "os.makedirs(input_temp_dir)\n",
    "\n",
    "\n",
    "# Download the artifact and read it into a pandas DataFrame\n",
    "input_data_path = mlflow.artifacts.download_artifacts(run_id=\"f6ce75df687041eca46dbf2e847c87b8\", artifact_path=\"data\", dst_path=input_temp_dir)\n",
    "\n",
    "df_loaded = pd.read_parquet(os.path.join(input_data_path, \"training_data\"))\n",
    "# Delete the temp data\n",
    "shutil.rmtree(input_temp_dir)\n",
    "\n",
    "# Preview data\n",
    "df_loaded.head(5)"
   ]
  },
  {
   "cell_type": "markdown",
   "metadata": {
    "application/vnd.databricks.v1+cell": {
     "cellMetadata": {},
     "inputWidgets": {},
     "nuid": "8b921960-f8f5-43bb-870f-9a22dfee1982",
     "showTitle": false,
     "title": ""
    }
   },
   "source": [
    "### Select supported columns\n",
    "Select only the columns that are supported. This allows us to train a model that can predict on a dataset that has extra columns that are not used in training.\n",
    "`[\"customerID\"]` are dropped in the pipelines. See the Alerts tab of the AutoML Experiment page for details on why these columns are dropped."
   ]
  },
  {
   "cell_type": "code",
   "execution_count": 0,
   "metadata": {
    "application/vnd.databricks.v1+cell": {
     "cellMetadata": {
      "byteLimit": 2048000,
      "rowLimit": 10000
     },
     "inputWidgets": {},
     "nuid": "9a68fe3b-0d68-4877-9686-b70cefc1ef5f",
     "showTitle": false,
     "title": ""
    },
    "execution": {
     "iopub.execute_input": "2023-04-14T04:02:38.211824Z",
     "iopub.status.busy": "2023-04-14T04:02:38.210939Z",
     "iopub.status.idle": "2023-04-14T04:02:38.975679Z",
     "shell.execute_reply": "2023-04-14T04:02:38.974632Z"
    }
   },
   "outputs": [],
   "source": [
    "from databricks.automl_runtime.sklearn.column_selector import ColumnSelector\n",
    "supported_cols = [\"contract_Twoyear\", \"streamingMovies_Nointernetservice\", \"seniorCitizen\", \"monthlyCharges\", \"internetService_DSL\", \"deviceProtection_No\", \"partner_No\", \"onlineSecurity_No\", \"paperlessBilling_No\", \"techSupport_Yes\", \"tenure\", \"streamingMovies_Yes\", \"techSupport_No\", \"onlineBackup_No\", \"totalCharges\", \"internetService_No\", \"paymentMethod_Electroniccheck\", \"partner_Yes\", \"dependents_Yes\", \"streamingTV_Yes\", \"multipleLines_No\", \"internetService_Fiberoptic\", \"streamingTV_Nointernetservice\", \"contract_Month-to-month\", \"onlineSecurity_Nointernetservice\", \"paymentMethod_Creditcard-automatic\", \"onlineBackup_Nointernetservice\", \"contract_Oneyear\", \"phoneService_No\", \"deviceProtection_Nointernetservice\", \"dependents_No\", \"streamingTV_No\", \"onlineSecurity_Yes\", \"techSupport_Nointernetservice\", \"phoneService_Yes\", \"gender_Male\", \"onlineBackup_Yes\", \"streamingMovies_No\", \"deviceProtection_Yes\", \"paymentMethod_Mailedcheck\", \"multipleLines_Yes\", \"gender_Female\", \"paymentMethod_Banktransfer-automatic\", \"paperlessBilling_Yes\", \"multipleLines_Nophoneservice\"]\n",
    "col_selector = ColumnSelector(supported_cols)"
   ]
  },
  {
   "cell_type": "markdown",
   "metadata": {
    "application/vnd.databricks.v1+cell": {
     "cellMetadata": {},
     "inputWidgets": {},
     "nuid": "0df57ed9-64e9-4c6e-8422-fae5fcb10988",
     "showTitle": false,
     "title": ""
    }
   },
   "source": [
    "## Preprocessors"
   ]
  },
  {
   "cell_type": "markdown",
   "metadata": {
    "application/vnd.databricks.v1+cell": {
     "cellMetadata": {},
     "inputWidgets": {},
     "nuid": "cab323a5-0976-469e-9ce6-39ae230e0dbf",
     "showTitle": false,
     "title": ""
    }
   },
   "source": [
    "### Boolean columns\n",
    "For each column, impute missing values and then convert into ones and zeros."
   ]
  },
  {
   "cell_type": "code",
   "execution_count": 0,
   "metadata": {
    "application/vnd.databricks.v1+cell": {
     "cellMetadata": {
      "byteLimit": 2048000,
      "rowLimit": 10000
     },
     "inputWidgets": {},
     "nuid": "91d3a80b-b5fb-40cc-acf0-c4e7c20dcbb8",
     "showTitle": false,
     "title": ""
    },
    "execution": {
     "iopub.execute_input": "2023-04-14T04:02:38.980138Z",
     "iopub.status.busy": "2023-04-14T04:02:38.979654Z",
     "iopub.status.idle": "2023-04-14T04:02:38.990814Z",
     "shell.execute_reply": "2023-04-14T04:02:38.989831Z"
    }
   },
   "outputs": [],
   "source": [
    "from sklearn.compose import ColumnTransformer\n",
    "from sklearn.impute import SimpleImputer\n",
    "from sklearn.pipeline import Pipeline\n",
    "from sklearn.preprocessing import FunctionTransformer\n",
    "from sklearn.preprocessing import OneHotEncoder as SklearnOneHotEncoder\n",
    "\n",
    "\n",
    "bool_imputers = []\n",
    "\n",
    "bool_pipeline = Pipeline(steps=[\n",
    "    (\"cast_type\", FunctionTransformer(lambda df: df.astype(object))),\n",
    "    (\"imputers\", ColumnTransformer(bool_imputers, remainder=\"passthrough\")),\n",
    "    (\"onehot\", SklearnOneHotEncoder(handle_unknown=\"ignore\", drop=\"first\")),\n",
    "])\n",
    "\n",
    "bool_transformers = [(\"boolean\", bool_pipeline, [\"seniorCitizen\", \"streamingMovies_Nointernetservice\", \"contract_Twoyear\", \"internetService_DSL\", \"deviceProtection_No\", \"partner_No\", \"onlineSecurity_No\", \"paperlessBilling_No\", \"techSupport_Yes\", \"streamingMovies_Yes\", \"techSupport_No\", \"onlineBackup_No\", \"internetService_No\", \"paymentMethod_Electroniccheck\", \"partner_Yes\", \"dependents_Yes\", \"streamingTV_Yes\", \"multipleLines_No\", \"internetService_Fiberoptic\", \"streamingTV_Nointernetservice\", \"contract_Month-to-month\", \"onlineSecurity_Nointernetservice\", \"paymentMethod_Creditcard-automatic\", \"onlineBackup_Nointernetservice\", \"contract_Oneyear\", \"phoneService_No\", \"deviceProtection_Nointernetservice\", \"dependents_No\", \"streamingTV_No\", \"onlineSecurity_Yes\", \"techSupport_Nointernetservice\", \"phoneService_Yes\", \"gender_Male\", \"onlineBackup_Yes\", \"streamingMovies_No\", \"deviceProtection_Yes\", \"paymentMethod_Mailedcheck\", \"multipleLines_Yes\", \"gender_Female\", \"paperlessBilling_Yes\", \"paymentMethod_Banktransfer-automatic\", \"multipleLines_Nophoneservice\"])]"
   ]
  },
  {
   "cell_type": "markdown",
   "metadata": {
    "application/vnd.databricks.v1+cell": {
     "cellMetadata": {},
     "inputWidgets": {},
     "nuid": "0b0c7f70-57f5-4296-9920-9eadaaad62f5",
     "showTitle": false,
     "title": ""
    }
   },
   "source": [
    "### Numerical columns\n",
    "\n",
    "Missing values for numerical columns are imputed with mean by default."
   ]
  },
  {
   "cell_type": "code",
   "execution_count": 0,
   "metadata": {
    "application/vnd.databricks.v1+cell": {
     "cellMetadata": {
      "byteLimit": 2048000,
      "rowLimit": 10000
     },
     "inputWidgets": {},
     "nuid": "1ad84f94-0f10-4cfa-abe5-063ed54be126",
     "showTitle": false,
     "title": ""
    },
    "execution": {
     "iopub.execute_input": "2023-04-14T04:02:38.996123Z",
     "iopub.status.busy": "2023-04-14T04:02:38.995813Z",
     "iopub.status.idle": "2023-04-14T04:02:39.010531Z",
     "shell.execute_reply": "2023-04-14T04:02:39.008606Z"
    }
   },
   "outputs": [],
   "source": [
    "from sklearn.compose import ColumnTransformer\n",
    "from sklearn.impute import SimpleImputer\n",
    "from sklearn.pipeline import Pipeline\n",
    "from sklearn.preprocessing import FunctionTransformer, StandardScaler\n",
    "\n",
    "num_imputers = []\n",
    "num_imputers.append((\"impute_mean\", SimpleImputer(), [\"contract_Month-to-month\", \"contract_Oneyear\", \"contract_Twoyear\", \"dependents_No\", \"dependents_Yes\", \"deviceProtection_No\", \"deviceProtection_Nointernetservice\", \"deviceProtection_Yes\", \"gender_Female\", \"gender_Male\", \"internetService_DSL\", \"internetService_Fiberoptic\", \"internetService_No\", \"monthlyCharges\", \"multipleLines_No\", \"multipleLines_Nophoneservice\", \"multipleLines_Yes\", \"onlineBackup_No\", \"onlineBackup_Nointernetservice\", \"onlineBackup_Yes\", \"onlineSecurity_No\", \"onlineSecurity_Nointernetservice\", \"onlineSecurity_Yes\", \"paperlessBilling_No\", \"paperlessBilling_Yes\", \"partner_No\", \"partner_Yes\", \"paymentMethod_Banktransfer-automatic\", \"paymentMethod_Creditcard-automatic\", \"paymentMethod_Electroniccheck\", \"paymentMethod_Mailedcheck\", \"phoneService_No\", \"phoneService_Yes\", \"seniorCitizen\", \"streamingMovies_No\", \"streamingMovies_Nointernetservice\", \"streamingMovies_Yes\", \"streamingTV_No\", \"streamingTV_Nointernetservice\", \"streamingTV_Yes\", \"techSupport_No\", \"techSupport_Nointernetservice\", \"techSupport_Yes\", \"tenure\", \"totalCharges\"]))\n",
    "\n",
    "numerical_pipeline = Pipeline(steps=[\n",
    "    (\"converter\", FunctionTransformer(lambda df: df.apply(pd.to_numeric, errors='coerce'))),\n",
    "    (\"imputers\", ColumnTransformer(num_imputers)),\n",
    "    (\"standardizer\", StandardScaler()),\n",
    "])\n",
    "\n",
    "numerical_transformers = [(\"numerical\", numerical_pipeline, [\"seniorCitizen\", \"streamingMovies_Nointernetservice\", \"contract_Twoyear\", \"monthlyCharges\", \"internetService_DSL\", \"deviceProtection_No\", \"partner_No\", \"onlineSecurity_No\", \"paperlessBilling_No\", \"techSupport_Yes\", \"tenure\", \"streamingMovies_Yes\", \"techSupport_No\", \"onlineBackup_No\", \"totalCharges\", \"internetService_No\", \"paymentMethod_Electroniccheck\", \"partner_Yes\", \"dependents_Yes\", \"streamingTV_Yes\", \"internetService_Fiberoptic\", \"multipleLines_No\", \"streamingTV_Nointernetservice\", \"contract_Month-to-month\", \"onlineSecurity_Nointernetservice\", \"paymentMethod_Creditcard-automatic\", \"onlineBackup_Nointernetservice\", \"contract_Oneyear\", \"phoneService_No\", \"deviceProtection_Nointernetservice\", \"dependents_No\", \"streamingTV_No\", \"onlineSecurity_Yes\", \"techSupport_Nointernetservice\", \"phoneService_Yes\", \"gender_Male\", \"onlineBackup_Yes\", \"streamingMovies_No\", \"deviceProtection_Yes\", \"paymentMethod_Mailedcheck\", \"multipleLines_Yes\", \"gender_Female\", \"paperlessBilling_Yes\", \"paymentMethod_Banktransfer-automatic\", \"multipleLines_Nophoneservice\"])]"
   ]
  },
  {
   "cell_type": "code",
   "execution_count": 0,
   "metadata": {
    "application/vnd.databricks.v1+cell": {
     "cellMetadata": {
      "byteLimit": 2048000,
      "rowLimit": 10000
     },
     "inputWidgets": {},
     "nuid": "4c825f50-c3ec-49f8-8bac-e3ef8ed5b61c",
     "showTitle": false,
     "title": ""
    },
    "execution": {
     "iopub.execute_input": "2023-04-14T04:02:39.014901Z",
     "iopub.status.busy": "2023-04-14T04:02:39.014581Z",
     "iopub.status.idle": "2023-04-14T04:02:39.020306Z",
     "shell.execute_reply": "2023-04-14T04:02:39.019533Z"
    }
   },
   "outputs": [],
   "source": [
    "from sklearn.compose import ColumnTransformer\n",
    "\n",
    "transformers = bool_transformers + numerical_transformers\n",
    "\n",
    "preprocessor = ColumnTransformer(transformers, remainder=\"passthrough\", sparse_threshold=1)"
   ]
  },
  {
   "cell_type": "markdown",
   "metadata": {
    "application/vnd.databricks.v1+cell": {
     "cellMetadata": {},
     "inputWidgets": {},
     "nuid": "ede4b308-8460-4b5d-966e-f65b0fdacf49",
     "showTitle": false,
     "title": ""
    }
   },
   "source": [
    "## Train - Validation - Test Split\n",
    "The input data is split by AutoML into 3 sets:\n",
    "- Train (60% of the dataset used to train the model)\n",
    "- Validation (20% of the dataset used to tune the hyperparameters of the model)\n",
    "- Test (20% of the dataset used to report the true performance of the model on an unseen dataset)\n",
    "\n",
    "`_automl_split_col_e04a` contains the information of which set a given row belongs to.\n",
    "We use this column to split the dataset into the above 3 sets. \n",
    "The column should not be used for training so it is dropped after split is done."
   ]
  },
  {
   "cell_type": "code",
   "execution_count": 0,
   "metadata": {
    "application/vnd.databricks.v1+cell": {
     "cellMetadata": {
      "byteLimit": 2048000,
      "rowLimit": 10000
     },
     "inputWidgets": {},
     "nuid": "41ef8ce0-73c0-41b1-8bac-dc0ab6c14e9d",
     "showTitle": false,
     "title": ""
    },
    "execution": {
     "iopub.execute_input": "2023-04-14T04:02:39.030065Z",
     "iopub.status.busy": "2023-04-14T04:02:39.028927Z",
     "iopub.status.idle": "2023-04-14T04:02:39.090811Z",
     "shell.execute_reply": "2023-04-14T04:02:39.089034Z"
    }
   },
   "outputs": [],
   "source": [
    "# AutoML completed train - validation - test split internally and used _automl_split_col_e04a to specify the set\n",
    "split_train_df = df_loaded.loc[df_loaded._automl_split_col_e04a == \"train\"]\n",
    "split_val_df = df_loaded.loc[df_loaded._automl_split_col_e04a == \"val\"]\n",
    "split_test_df = df_loaded.loc[df_loaded._automl_split_col_e04a == \"test\"]\n",
    "\n",
    "# Separate target column from features and drop _automl_split_col_e04a\n",
    "X_train = split_train_df.drop([target_col, \"_automl_split_col_e04a\"], axis=1)\n",
    "y_train = split_train_df[target_col]\n",
    "\n",
    "X_val = split_val_df.drop([target_col, \"_automl_split_col_e04a\"], axis=1)\n",
    "y_val = split_val_df[target_col]\n",
    "\n",
    "X_test = split_test_df.drop([target_col, \"_automl_split_col_e04a\"], axis=1)\n",
    "y_test = split_test_df[target_col]"
   ]
  },
  {
   "cell_type": "markdown",
   "metadata": {
    "application/vnd.databricks.v1+cell": {
     "cellMetadata": {},
     "inputWidgets": {},
     "nuid": "d7589537-ae78-4700-9479-9f13d62dc78c",
     "showTitle": false,
     "title": ""
    }
   },
   "source": [
    "## Train classification model\n",
    "- Log relevant metrics to MLflow to track runs\n",
    "- All the runs are logged under [this MLflow experiment](#mlflow/experiments/2207456861247495)\n",
    "- Change the model parameters and re-run the training cell to log a different trial to the MLflow experiment\n",
    "- To view the full list of tunable hyperparameters, check the output of the cell below"
   ]
  },
  {
   "cell_type": "code",
   "execution_count": 0,
   "metadata": {
    "application/vnd.databricks.v1+cell": {
     "cellMetadata": {
      "byteLimit": 2048000,
      "rowLimit": 10000
     },
     "inputWidgets": {},
     "nuid": "30dd05a2-2dc4-4865-a8e4-932ae79f160b",
     "showTitle": false,
     "title": ""
    },
    "execution": {
     "iopub.execute_input": "2023-04-14T04:02:39.105653Z",
     "iopub.status.busy": "2023-04-14T04:02:39.105330Z",
     "iopub.status.idle": "2023-04-14T04:02:39.195012Z",
     "shell.execute_reply": "2023-04-14T04:02:39.194012Z"
    }
   },
   "outputs": [],
   "source": [
    "from xgboost import XGBClassifier\n",
    "\n",
    "help(XGBClassifier)"
   ]
  },
  {
   "cell_type": "markdown",
   "metadata": {
    "application/vnd.databricks.v1+cell": {
     "cellMetadata": {},
     "inputWidgets": {},
     "nuid": "a4720caf-0296-42c3-a4e3-63ae1afcb752",
     "showTitle": false,
     "title": ""
    }
   },
   "source": [
    "### Define the objective function\n",
    "The objective function used to find optimal hyperparameters. By default, this notebook only runs\n",
    "this function once (`max_evals=1` in the `hyperopt.fmin` invocation) with fixed hyperparameters, but\n",
    "hyperparameters can be tuned by modifying `space`, defined below. `hyperopt.fmin` will then use this\n",
    "function's return value to search the space to minimize the loss."
   ]
  },
  {
   "cell_type": "code",
   "execution_count": 0,
   "metadata": {
    "application/vnd.databricks.v1+cell": {
     "cellMetadata": {
      "byteLimit": 2048000,
      "rowLimit": 10000
     },
     "inputWidgets": {},
     "nuid": "e5a3d399-c8c5-4b63-ace4-7be9b60e0489",
     "showTitle": false,
     "title": ""
    },
    "execution": {
     "iopub.execute_input": "2023-04-14T04:02:39.201590Z",
     "iopub.status.busy": "2023-04-14T04:02:39.200947Z",
     "iopub.status.idle": "2023-04-14T04:02:39.661402Z",
     "shell.execute_reply": "2023-04-14T04:02:39.660135Z"
    }
   },
   "outputs": [],
   "source": [
    "import mlflow\n",
    "from mlflow.models import Model, infer_signature, ModelSignature\n",
    "from mlflow.pyfunc import PyFuncModel\n",
    "from mlflow import pyfunc\n",
    "import sklearn\n",
    "from sklearn import set_config\n",
    "from sklearn.pipeline import Pipeline\n",
    "from sklearn.preprocessing import LabelEncoder\n",
    "from databricks.automl_runtime.sklearn import TransformedTargetClassifier\n",
    "\n",
    "from hyperopt import hp, tpe, fmin, STATUS_OK, Trials\n",
    "\n",
    "# Create a separate pipeline to transform the validation dataset. This is used for early stopping.\n",
    "mlflow.sklearn.autolog(disable=True)\n",
    "pipeline_val = Pipeline([\n",
    "    (\"column_selector\", col_selector),\n",
    "    (\"preprocessor\", preprocessor),\n",
    "])\n",
    "pipeline_val.fit(X_train, y_train)\n",
    "X_val_processed = pipeline_val.transform(X_val)\n",
    "label_encoder_val = LabelEncoder()\n",
    "label_encoder_val.fit(y_train)\n",
    "y_val_processed = label_encoder_val.transform(y_val)\n",
    "\n",
    "def objective(params):\n",
    "  with mlflow.start_run(experiment_id=\"2207456861247495\") as mlflow_run:\n",
    "    xgbc_classifier = TransformedTargetClassifier(\n",
    "        classifier=XGBClassifier(**params),\n",
    "        transformer=LabelEncoder()  # XGBClassifier requires the target values to be integers between 0 and n_class-1\n",
    "    )\n",
    "\n",
    "    model = Pipeline([\n",
    "        (\"column_selector\", col_selector),\n",
    "        (\"preprocessor\", preprocessor),\n",
    "        (\"classifier\", xgbc_classifier),\n",
    "    ])\n",
    "\n",
    "    # Enable automatic logging of input samples, metrics, parameters, and models\n",
    "    mlflow.sklearn.autolog(\n",
    "        log_input_examples=True,\n",
    "        silent=True)\n",
    "\n",
    "    model.fit(X_train, y_train, classifier__early_stopping_rounds=5, classifier__verbose=False, classifier__eval_set=[(X_val_processed,y_val_processed)])\n",
    "\n",
    "    \n",
    "    # Log metrics for the training set\n",
    "    mlflow_model = Model()\n",
    "    pyfunc.add_to_model(mlflow_model, loader_module=\"mlflow.sklearn\")\n",
    "    pyfunc_model = PyFuncModel(model_meta=mlflow_model, model_impl=model)\n",
    "    X_train[target_col] = y_train\n",
    "    training_eval_result = mlflow.evaluate(\n",
    "        model=pyfunc_model,\n",
    "        data=X_train,\n",
    "        targets=target_col,\n",
    "        model_type=\"classifier\",\n",
    "        evaluator_config = {\"log_model_explainability\": False,\n",
    "                            \"metric_prefix\": \"training_\" , \"pos_label\": 1 }\n",
    "    )\n",
    "    xgbc_training_metrics = training_eval_result.metrics\n",
    "    # Log metrics for the validation set\n",
    "    X_val[target_col] = y_val\n",
    "    val_eval_result = mlflow.evaluate(\n",
    "        model=pyfunc_model,\n",
    "        data=X_val,\n",
    "        targets=target_col,\n",
    "        model_type=\"classifier\",\n",
    "        evaluator_config = {\"log_model_explainability\": False,\n",
    "                            \"metric_prefix\": \"val_\" , \"pos_label\": 1 }\n",
    "    )\n",
    "    xgbc_val_metrics = val_eval_result.metrics\n",
    "    # Log metrics for the test set\n",
    "    X_test[target_col] = y_test\n",
    "    test_eval_result = mlflow.evaluate(\n",
    "        model=pyfunc_model,\n",
    "        data=X_test,\n",
    "        targets=target_col,\n",
    "        model_type=\"classifier\",\n",
    "        evaluator_config = {\"log_model_explainability\": False,\n",
    "                            \"metric_prefix\": \"test_\" , \"pos_label\": 1 }\n",
    "    )\n",
    "    xgbc_test_metrics = test_eval_result.metrics\n",
    "\n",
    "    loss = xgbc_val_metrics[\"val_f1_score\"]\n",
    "\n",
    "    # Truncate metric key names so they can be displayed together\n",
    "    xgbc_val_metrics = {k.replace(\"val_\", \"\"): v for k, v in xgbc_val_metrics.items()}\n",
    "    xgbc_test_metrics = {k.replace(\"test_\", \"\"): v for k, v in xgbc_test_metrics.items()}\n",
    "\n",
    "    return {\n",
    "      \"loss\": loss,\n",
    "      \"status\": STATUS_OK,\n",
    "      \"val_metrics\": xgbc_val_metrics,\n",
    "      \"test_metrics\": xgbc_test_metrics,\n",
    "      \"model\": model,\n",
    "      \"run\": mlflow_run,\n",
    "    }"
   ]
  },
  {
   "cell_type": "markdown",
   "metadata": {
    "application/vnd.databricks.v1+cell": {
     "cellMetadata": {},
     "inputWidgets": {},
     "nuid": "e4ef18da-e70f-4633-b393-c9fd678bb725",
     "showTitle": false,
     "title": ""
    }
   },
   "source": [
    "### Configure the hyperparameter search space\n",
    "Configure the search space of parameters. Parameters below are all constant expressions but can be\n",
    "modified to widen the search space. For example, when training a decision tree classifier, to allow\n",
    "the maximum tree depth to be either 2 or 3, set the key of 'max_depth' to\n",
    "`hp.choice('max_depth', [2, 3])`. Be sure to also increase `max_evals` in the `fmin` call below.\n",
    "\n",
    "See https://docs.databricks.com/applications/machine-learning/automl-hyperparam-tuning/index.html\n",
    "for more information on hyperparameter tuning as well as\n",
    "http://hyperopt.github.io/hyperopt/getting-started/search_spaces/ for documentation on supported\n",
    "search expressions.\n",
    "\n",
    "For documentation on parameters used by the model in use, please see:\n",
    "https://xgboost.readthedocs.io/en/stable/python/python_api.html#xgboost.XGBClassifier\n",
    "\n",
    "NOTE: The above URL points to a stable version of the documentation corresponding to the last\n",
    "released version of the package. The documentation may differ slightly for the package version\n",
    "used by this notebook."
   ]
  },
  {
   "cell_type": "code",
   "execution_count": 0,
   "metadata": {
    "application/vnd.databricks.v1+cell": {
     "cellMetadata": {
      "byteLimit": 2048000,
      "rowLimit": 10000
     },
     "inputWidgets": {},
     "nuid": "f949961e-7cc8-4d9a-9a8a-8791b2f74162",
     "showTitle": false,
     "title": ""
    },
    "execution": {
     "iopub.execute_input": "2023-04-14T04:02:39.666999Z",
     "iopub.status.busy": "2023-04-14T04:02:39.666706Z",
     "iopub.status.idle": "2023-04-14T04:02:39.679520Z",
     "shell.execute_reply": "2023-04-14T04:02:39.678327Z"
    }
   },
   "outputs": [],
   "source": [
    "space = {\n",
    "  \"colsample_bytree\": 0.485736573557039,\n",
    "  \"learning_rate\": 1.2331278229690985,\n",
    "  \"max_depth\": 3,\n",
    "  \"min_child_weight\": 7,\n",
    "  \"n_estimators\": 63,\n",
    "  \"n_jobs\": 100,\n",
    "  \"subsample\": 0.7264455949051705,\n",
    "  \"verbosity\": 0,\n",
    "  \"random_state\": 32847526,\n",
    "}"
   ]
  },
  {
   "cell_type": "markdown",
   "metadata": {
    "application/vnd.databricks.v1+cell": {
     "cellMetadata": {},
     "inputWidgets": {},
     "nuid": "5e408d8c-87ac-4eb2-9e9a-822064a3a830",
     "showTitle": false,
     "title": ""
    }
   },
   "source": [
    "### Run trials\n",
    "When widening the search space and training multiple models, switch to `SparkTrials` to parallelize\n",
    "training on Spark:\n",
    "```\n",
    "from hyperopt import SparkTrials\n",
    "trials = SparkTrials()\n",
    "```\n",
    "\n",
    "NOTE: While `Trials` starts an MLFlow run for each set of hyperparameters, `SparkTrials` only starts\n",
    "one top-level run; it will start a subrun for each set of hyperparameters.\n",
    "\n",
    "See http://hyperopt.github.io/hyperopt/scaleout/spark/ for more info."
   ]
  },
  {
   "cell_type": "code",
   "execution_count": 0,
   "metadata": {
    "application/vnd.databricks.v1+cell": {
     "cellMetadata": {
      "byteLimit": 2048000,
      "rowLimit": 10000
     },
     "inputWidgets": {},
     "nuid": "2e581277-14f8-43bf-931a-424a24523fce",
     "showTitle": false,
     "title": ""
    },
    "execution": {
     "iopub.execute_input": "2023-04-14T04:02:39.684499Z",
     "iopub.status.busy": "2023-04-14T04:02:39.684218Z",
     "iopub.status.idle": "2023-04-14T04:03:04.358483Z",
     "shell.execute_reply": "2023-04-14T04:03:04.356990Z"
    }
   },
   "outputs": [],
   "source": [
    "trials = Trials()\n",
    "fmin(objective,\n",
    "     space=space,\n",
    "     algo=tpe.suggest,\n",
    "     max_evals=1,  # Increase this when widening the hyperparameter search space.\n",
    "     trials=trials)\n",
    "\n",
    "best_result = trials.best_trial[\"result\"]\n",
    "model = best_result[\"model\"]\n",
    "mlflow_run = best_result[\"run\"]\n",
    "\n",
    "display(\n",
    "  pd.DataFrame(\n",
    "    [best_result[\"val_metrics\"], best_result[\"test_metrics\"]],\n",
    "    index=[\"validation\", \"test\"]))\n",
    "\n",
    "set_config(display=\"diagram\")\n",
    "model"
   ]
  },
  {
   "cell_type": "markdown",
   "metadata": {
    "application/vnd.databricks.v1+cell": {
     "cellMetadata": {},
     "inputWidgets": {},
     "nuid": "af4884da-c01c-4f09-bb1c-539cb5f09ccf",
     "showTitle": false,
     "title": ""
    }
   },
   "source": [
    "## Feature importance\n",
    "\n",
    "SHAP is a game-theoretic approach to explain machine learning models, providing a summary plot\n",
    "of the relationship between features and model output. Features are ranked in descending order of\n",
    "importance, and impact/color describe the correlation between the feature and the target variable.\n",
    "- Generating SHAP feature importance is a very memory intensive operation, so to ensure that AutoML can run trials without\n",
    "  running out of memory, we disable SHAP by default.<br />\n",
    "  You can set the flag defined below to `shap_enabled = True` and re-run this notebook to see the SHAP plots.\n",
    "- To reduce the computational overhead of each trial, a single example is sampled from the validation set to explain.<br />\n",
    "  For more thorough results, increase the sample size of explanations, or provide your own examples to explain.\n",
    "- SHAP cannot explain models using data with nulls; if your dataset has any, both the background data and\n",
    "  examples to explain will be imputed using the mode (most frequent values). This affects the computed\n",
    "  SHAP values, as the imputed samples may not match the actual data distribution.\n",
    "\n",
    "For more information on how to read Shapley values, see the [SHAP documentation](https://shap.readthedocs.io/en/latest/example_notebooks/overviews/An%20introduction%20to%20explainable%20AI%20with%20Shapley%20values.html)."
   ]
  },
  {
   "cell_type": "code",
   "execution_count": 0,
   "metadata": {
    "application/vnd.databricks.v1+cell": {
     "cellMetadata": {
      "byteLimit": 2048000,
      "rowLimit": 10000
     },
     "inputWidgets": {},
     "nuid": "177ac023-ebfd-4923-8ca2-af7e31fe562d",
     "showTitle": false,
     "title": ""
    },
    "execution": {
     "iopub.execute_input": "2023-04-14T04:03:04.366530Z",
     "iopub.status.busy": "2023-04-14T04:03:04.364218Z",
     "iopub.status.idle": "2023-04-14T04:03:04.372726Z",
     "shell.execute_reply": "2023-04-14T04:03:04.371670Z"
    }
   },
   "outputs": [],
   "source": [
    "# Set this flag to True and re-run the notebook to see the SHAP plots\n",
    "shap_enabled = True"
   ]
  },
  {
   "cell_type": "code",
   "execution_count": 0,
   "metadata": {
    "application/vnd.databricks.v1+cell": {
     "cellMetadata": {
      "byteLimit": 2048000,
      "rowLimit": 10000
     },
     "inputWidgets": {},
     "nuid": "52e0e1f2-7cf6-4db6-b2ec-500a6526e867",
     "showTitle": false,
     "title": ""
    },
    "execution": {
     "iopub.execute_input": "2023-04-14T04:03:04.380575Z",
     "iopub.status.busy": "2023-04-14T04:03:04.378585Z",
     "iopub.status.idle": "2023-04-14T04:03:04.390427Z",
     "shell.execute_reply": "2023-04-14T04:03:04.389420Z"
    }
   },
   "outputs": [],
   "source": [
    "if shap_enabled:\n",
    "    from shap import KernelExplainer, summary_plot\n",
    "    # Sample background data for SHAP Explainer. Increase the sample size to reduce variance.\n",
    "    train_sample = X_train.sample(n=min(100, X_train.shape[0]), random_state=32847526)\n",
    "\n",
    "    # Sample some rows from the validation set to explain. Increase the sample size for more thorough results.\n",
    "    example = X_val.sample(n=min(10, X_val.shape[0]), random_state=32847526)\n",
    "\n",
    "    # Use Kernel SHAP to explain feature importance on the sampled rows from the validation set.\n",
    "    predict = lambda x: model.predict(pd.DataFrame(x, columns=X_train.columns))\n",
    "    explainer = KernelExplainer(predict, train_sample, link=\"identity\")\n",
    "    shap_values = explainer.shap_values(example, l1_reg=False)\n",
    "    summary_plot(shap_values, example, class_names=model.classes_)"
   ]
  },
  {
   "cell_type": "markdown",
   "metadata": {
    "application/vnd.databricks.v1+cell": {
     "cellMetadata": {},
     "inputWidgets": {},
     "nuid": "78b32bcd-23ec-47ad-bbda-41afa892abfd",
     "showTitle": false,
     "title": ""
    }
   },
   "source": [
    "## Inference\n",
    "[The MLflow Model Registry](https://docs.databricks.com/applications/mlflow/model-registry.html) is a collaborative hub where teams can share ML models, work together from experimentation to online testing and production, integrate with approval and governance workflows, and monitor ML deployments and their performance. The snippets below show how to add the model trained in this notebook to the model registry and to retrieve it later for inference.\n",
    "\n",
    "> **NOTE:** The `model_uri` for the model already trained in this notebook can be found in the cell below\n",
    "\n",
    "### Register to Model Registry\n",
    "```\n",
    "model_name = \"Example\"\n",
    "\n",
    "model_uri = f\"runs:/{ mlflow_run.info.run_id }/model\"\n",
    "registered_model_version = mlflow.register_model(model_uri, model_name)\n",
    "```\n",
    "\n",
    "### Load from Model Registry\n",
    "```\n",
    "model_name = \"Example\"\n",
    "model_version = registered_model_version.version\n",
    "\n",
    "model_uri=f\"models:/{model_name}/{model_version}\"\n",
    "model = mlflow.pyfunc.load_model(model_uri=model_uri)\n",
    "model.predict(input_X)\n",
    "```\n",
    "\n",
    "### Load model without registering\n",
    "```\n",
    "model_uri = f\"runs:/{ mlflow_run.info.run_id }/model\"\n",
    "\n",
    "model = mlflow.pyfunc.load_model(model_uri=model_uri)\n",
    "model.predict(input_X)\n",
    "```"
   ]
  },
  {
   "cell_type": "code",
   "execution_count": 0,
   "metadata": {
    "application/vnd.databricks.v1+cell": {
     "cellMetadata": {
      "byteLimit": 2048000,
      "rowLimit": 10000
     },
     "inputWidgets": {},
     "nuid": "707a519d-ac1f-44e1-8e22-4800bf4e9a7d",
     "showTitle": false,
     "title": ""
    },
    "execution": {
     "iopub.execute_input": "2023-04-14T04:03:04.397744Z",
     "iopub.status.busy": "2023-04-14T04:03:04.395977Z",
     "iopub.status.idle": "2023-04-14T04:03:04.406840Z",
     "shell.execute_reply": "2023-04-14T04:03:04.405746Z"
    }
   },
   "outputs": [],
   "source": [
    "# model_uri for the generated model\n",
    "print(f\"runs:/{ mlflow_run.info.run_id }/model\")"
   ]
  },
  {
   "cell_type": "markdown",
   "metadata": {
    "application/vnd.databricks.v1+cell": {
     "cellMetadata": {},
     "inputWidgets": {},
     "nuid": "aef4ead0-d9dc-40be-8ec8-1471f86ebc65",
     "showTitle": false,
     "title": ""
    }
   },
   "source": [
    "## Confusion matrix, ROC and Precision-Recall curves for validation data\n",
    "\n",
    "We show the confusion matrix, ROC and Precision-Recall curves of the model on the validation data.\n",
    "\n",
    "For the plots evaluated on the training and the test data, check the artifacts on the MLflow run page."
   ]
  },
  {
   "cell_type": "code",
   "execution_count": 0,
   "metadata": {
    "application/vnd.databricks.v1+cell": {
     "cellMetadata": {
      "byteLimit": 2048000,
      "rowLimit": 10000
     },
     "inputWidgets": {},
     "nuid": "63cc2c91-d69d-4472-b236-1da3c3cc177a",
     "showTitle": false,
     "title": ""
    },
    "execution": {
     "iopub.execute_input": "2023-04-14T04:03:04.414704Z",
     "iopub.status.busy": "2023-04-14T04:03:04.412921Z",
     "iopub.status.idle": "2023-04-14T04:03:04.423752Z",
     "shell.execute_reply": "2023-04-14T04:03:04.422571Z"
    }
   },
   "outputs": [],
   "source": [
    "# Paste the entire output (%md ...) to an empty cell, and click the link to see the MLflow run page\n",
    "print(f\"%md [Link to model run page](#mlflow/experiments/2207456861247495/runs/{ mlflow_run.info.run_id }/artifactPath/model)\")"
   ]
  },
  {
   "cell_type": "code",
   "execution_count": 0,
   "metadata": {
    "application/vnd.databricks.v1+cell": {
     "cellMetadata": {
      "byteLimit": 2048000,
      "rowLimit": 10000
     },
     "inputWidgets": {},
     "nuid": "84f438ce-b792-458d-b6d2-3503889516e0",
     "showTitle": false,
     "title": ""
    },
    "execution": {
     "iopub.execute_input": "2023-04-14T04:03:04.431238Z",
     "iopub.status.busy": "2023-04-14T04:03:04.429404Z",
     "iopub.status.idle": "2023-04-14T04:03:06.938062Z",
     "shell.execute_reply": "2023-04-14T04:03:06.936937Z"
    }
   },
   "outputs": [],
   "source": [
    "import uuid\n",
    "from IPython.display import Image\n",
    "\n",
    "# Create temp directory to download MLflow model artifact\n",
    "eval_temp_dir = os.path.join(os.environ[\"SPARK_LOCAL_DIRS\"], \"tmp\", str(uuid.uuid4())[:8])\n",
    "os.makedirs(eval_temp_dir, exist_ok=True)\n",
    "\n",
    "# Download the artifact\n",
    "eval_path = mlflow.artifacts.download_artifacts(run_id=mlflow_run.info.run_id, dst_path=eval_temp_dir)"
   ]
  },
  {
   "cell_type": "markdown",
   "metadata": {
    "application/vnd.databricks.v1+cell": {
     "cellMetadata": {},
     "inputWidgets": {},
     "nuid": "089c27e2-9266-49d1-8a2e-fe6fad72d7e6",
     "showTitle": false,
     "title": ""
    }
   },
   "source": [
    "### Confusion matrix for validation dataset"
   ]
  },
  {
   "cell_type": "code",
   "execution_count": 0,
   "metadata": {
    "application/vnd.databricks.v1+cell": {
     "cellMetadata": {
      "byteLimit": 2048000,
      "rowLimit": 10000
     },
     "inputWidgets": {},
     "nuid": "8eae13dd-2fc9-4f70-a0c4-811385f00d52",
     "showTitle": false,
     "title": ""
    },
    "execution": {
     "iopub.execute_input": "2023-04-14T04:03:06.942400Z",
     "iopub.status.busy": "2023-04-14T04:03:06.942003Z",
     "iopub.status.idle": "2023-04-14T04:03:06.951728Z",
     "shell.execute_reply": "2023-04-14T04:03:06.950669Z"
    },
    "large_display_output": true
   },
   "outputs": [],
   "source": [
    "eval_confusion_matrix_path = os.path.join(eval_path, \"confusion_matrix.png\")\n",
    "display(Image(filename=eval_confusion_matrix_path))"
   ]
  },
  {
   "cell_type": "markdown",
   "metadata": {
    "application/vnd.databricks.v1+cell": {
     "cellMetadata": {},
     "inputWidgets": {},
     "nuid": "1285b632-ce57-4da1-b6a6-3c6572f3f558",
     "showTitle": false,
     "title": ""
    }
   },
   "source": [
    "### ROC curve for validation dataset"
   ]
  },
  {
   "cell_type": "code",
   "execution_count": 0,
   "metadata": {
    "application/vnd.databricks.v1+cell": {
     "cellMetadata": {
      "byteLimit": 2048000,
      "rowLimit": 10000
     },
     "inputWidgets": {},
     "nuid": "ee1bc0c3-d006-4101-9729-36b9e28f707f",
     "showTitle": false,
     "title": ""
    },
    "execution": {
     "iopub.execute_input": "2023-04-14T04:03:06.955314Z",
     "iopub.status.busy": "2023-04-14T04:03:06.954874Z",
     "iopub.status.idle": "2023-04-14T04:03:06.963303Z",
     "shell.execute_reply": "2023-04-14T04:03:06.962388Z"
    },
    "large_display_output": true
   },
   "outputs": [],
   "source": [
    "eval_roc_curve_path = os.path.join(eval_path, \"roc_curve_plot.png\")\n",
    "display(Image(filename=eval_roc_curve_path))"
   ]
  },
  {
   "cell_type": "markdown",
   "metadata": {
    "application/vnd.databricks.v1+cell": {
     "cellMetadata": {},
     "inputWidgets": {},
     "nuid": "45c4a20e-5195-4b51-a07b-39bcb04c7f3b",
     "showTitle": false,
     "title": ""
    }
   },
   "source": [
    "### Precision-Recall curve for validation dataset"
   ]
  },
  {
   "cell_type": "code",
   "execution_count": 0,
   "metadata": {
    "application/vnd.databricks.v1+cell": {
     "cellMetadata": {
      "byteLimit": 2048000,
      "rowLimit": 10000
     },
     "inputWidgets": {},
     "nuid": "f1aead07-e65d-4c38-b4ea-ecb3308c05e1",
     "showTitle": false,
     "title": ""
    },
    "execution": {
     "iopub.execute_input": "2023-04-14T04:03:06.974004Z",
     "iopub.status.busy": "2023-04-14T04:03:06.973188Z",
     "iopub.status.idle": "2023-04-14T04:03:06.982095Z",
     "shell.execute_reply": "2023-04-14T04:03:06.981032Z"
    },
    "large_display_output": true
   },
   "outputs": [],
   "source": [
    "eval_pr_curve_path = os.path.join(eval_path, \"precision_recall_curve_plot.png\")\n",
    "display(Image(filename=eval_pr_curve_path))"
   ]
  }
 ],
 "metadata": {
  "application/vnd.databricks.v1+notebook": {
   "dashboards": [],
   "language": "python",
   "notebookMetadata": {
    "pythonIndentUnit": 4
   },
   "notebookName": "02_automl_baseline",
   "notebookOrigID": 2207456861247555,
   "widgets": {}
  },
  "language_info": {
   "codemirror_mode": {
    "name": "ipython",
    "version": 3
   },
   "file_extension": ".py",
   "mimetype": "text/x-python",
   "name": "python",
   "nbconvert_exporter": "python",
   "pygments_lexer": "ipython3",
   "version": "3.9.5"
  },
  "name": "XGBoostClassifier-74854da7fb50097c905eb537afe5b0d1"
 },
 "nbformat": 4,
 "nbformat_minor": 0
}
